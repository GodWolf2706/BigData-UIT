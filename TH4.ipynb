{
 "cells": [
  {
   "cell_type": "code",
   "execution_count": 1,
   "id": "3836ba7a",
   "metadata": {},
   "outputs": [],
   "source": [
    "import pyspark"
   ]
  },
  {
   "cell_type": "code",
   "execution_count": 2,
   "id": "c215de6f",
   "metadata": {},
   "outputs": [
    {
     "name": "stderr",
     "output_type": "stream",
     "text": [
      "24/05/19 21:34:34 WARN Utils: Your hostname, godwolf-2-7 resolves to a loopback address: 127.0.1.1; using 10.0.2.15 instead (on interface enp0s3)\n",
      "24/05/19 21:34:34 WARN Utils: Set SPARK_LOCAL_IP if you need to bind to another address\n",
      "Setting default log level to \"WARN\".\n",
      "To adjust logging level use sc.setLogLevel(newLevel). For SparkR, use setLogLevel(newLevel).\n",
      "24/05/19 21:34:35 WARN NativeCodeLoader: Unable to load native-hadoop library for your platform... using builtin-java classes where applicable\n"
     ]
    }
   ],
   "source": [
    "from pyspark.sql import SparkSession\n",
    "\n",
    "# Khởi tạo SparkSession\n",
    "spark = SparkSession.builder \\\n",
    "    .appName(\"Spark DataFrame\") \\\n",
    "    .getOrCreate()"
   ]
  },
  {
   "cell_type": "markdown",
   "id": "dba697e3",
   "metadata": {},
   "source": [
    "# Bai tap 1: Tao va thao tac voi DataFrame bang JSON"
   ]
  },
  {
   "cell_type": "code",
   "execution_count": 24,
   "id": "bef7d4c6",
   "metadata": {},
   "outputs": [],
   "source": [
    "# Đọc dữ liệu từ tệp\n",
    "df_1 = spark.read.json(\"/home/godwolf/Downloads/spark-3.5.1-bin-hadoop3/python/TH4/TH4_Attachments/people.json\")"
   ]
  },
  {
   "cell_type": "code",
   "execution_count": 25,
   "id": "0fe6f528",
   "metadata": {},
   "outputs": [
    {
     "name": "stdout",
     "output_type": "stream",
     "text": [
      "+----+-------+\n",
      "| age|   name|\n",
      "+----+-------+\n",
      "|NULL|Michael|\n",
      "|  30|   Andy|\n",
      "|  19| Justin|\n",
      "+----+-------+\n",
      "\n"
     ]
    }
   ],
   "source": [
    "# Hiển thị nội dung của DataFrame ra stdout\n",
    "df_1.show()"
   ]
  },
  {
   "cell_type": "code",
   "execution_count": 26,
   "id": "2cb852b7",
   "metadata": {},
   "outputs": [
    {
     "name": "stdout",
     "output_type": "stream",
     "text": [
      "root\n",
      " |-- age: long (nullable = true)\n",
      " |-- name: string (nullable = true)\n",
      "\n"
     ]
    }
   ],
   "source": [
    "# In ra stdout cấu trúc của DataFrame theo dạng cây\n",
    "df_1.printSchema()"
   ]
  },
  {
   "cell_type": "code",
   "execution_count": 27,
   "id": "7125475b",
   "metadata": {},
   "outputs": [
    {
     "name": "stdout",
     "output_type": "stream",
     "text": [
      "+-------+\n",
      "|   name|\n",
      "+-------+\n",
      "|Michael|\n",
      "|   Andy|\n",
      "| Justin|\n",
      "+-------+\n",
      "\n"
     ]
    }
   ],
   "source": [
    "# Chọn duy nhất một cột “name” để hiển thị\n",
    "df_1.select(\"name\").show()"
   ]
  },
  {
   "cell_type": "code",
   "execution_count": 28,
   "id": "44a90105",
   "metadata": {},
   "outputs": [
    {
     "name": "stdout",
     "output_type": "stream",
     "text": [
      "+-------+---------+\n",
      "|   name|(age + 1)|\n",
      "+-------+---------+\n",
      "|Michael|     NULL|\n",
      "|   Andy|       31|\n",
      "| Justin|       20|\n",
      "+-------+---------+\n",
      "\n"
     ]
    }
   ],
   "source": [
    "# Hiển thị toàn bộ các cột với tất cả giá trị của cột “age” tăng thêm 1\n",
    "df_1.select(df_1['name'], df_1['age'] + 1).show()"
   ]
  },
  {
   "cell_type": "code",
   "execution_count": 29,
   "id": "e47b7d94",
   "metadata": {},
   "outputs": [
    {
     "name": "stdout",
     "output_type": "stream",
     "text": [
      "+---+----+\n",
      "|age|name|\n",
      "+---+----+\n",
      "| 30|Andy|\n",
      "+---+----+\n",
      "\n"
     ]
    }
   ],
   "source": [
    "# Lọc ra những người có tuổi lớn hơn 21\n",
    "df_1.filter(df_1['age'] > 21).show()"
   ]
  },
  {
   "cell_type": "code",
   "execution_count": 30,
   "id": "366e1195",
   "metadata": {},
   "outputs": [
    {
     "name": "stdout",
     "output_type": "stream",
     "text": [
      "+----+-----+\n",
      "| age|count|\n",
      "+----+-----+\n",
      "|  19|    1|\n",
      "|NULL|    1|\n",
      "|  30|    1|\n",
      "+----+-----+\n",
      "\n"
     ]
    }
   ],
   "source": [
    "# Đếm số người theo từng độ tuổi\n",
    "df_1.groupBy(\"age\").count().show()"
   ]
  },
  {
   "cell_type": "markdown",
   "id": "f586e55c",
   "metadata": {},
   "source": [
    "# Bai tap 2: Tao va thao tac voi DataFrame tu file CSV"
   ]
  },
  {
   "cell_type": "code",
   "execution_count": 31,
   "id": "fef23b92",
   "metadata": {},
   "outputs": [],
   "source": [
    "# Tạo DataFrame từ nội dung của file CSV với câu lệnh sau:\n",
    "df_2 = spark.read.format(\"csv\").option(\"header\", \"true\").load(\"/home/godwolf/Downloads/spark-3.5.1-bin-hadoop3/python/TH4/TH4_Attachments/ebay.csv\")"
   ]
  },
  {
   "cell_type": "code",
   "execution_count": 32,
   "id": "fa3e0dbf",
   "metadata": {},
   "outputs": [
    {
     "name": "stdout",
     "output_type": "stream",
     "text": [
      "+----------+-----+--------+--------------+----------+-------+-----+----+----------+\n",
      "| auctionid|  bid| bidtime|        bidder|bidderrate|openbid|price|item|daystolive|\n",
      "+----------+-----+--------+--------------+----------+-------+-----+----+----------+\n",
      "|8213034705|   95|2.927373|      jake7870|         0|     95|117.5|xbox|         3|\n",
      "|8213034705|  115|2.943484| davidbresler2|         1|     95|117.5|xbox|         3|\n",
      "|8213034705|  100|2.951285|gladimacowgirl|        58|     95|117.5|xbox|         3|\n",
      "|8213034705|117.5|2.998947|       daysrus|        10|     95|117.5|xbox|         3|\n",
      "|8213060420|    2|0.065266|    donnie4814|         5|      1|  120|xbox|         3|\n",
      "|8213060420|15.25|0.123218|   myreeceyboy|        52|      1|  120|xbox|         3|\n",
      "|8213060420|    3|0.186539|  parakeet2004|         5|      1|  120|xbox|         3|\n",
      "|8213060420|   10| 0.18669|  parakeet2004|         5|      1|  120|xbox|         3|\n",
      "|8213060420|24.99|0.187049|  parakeet2004|         5|      1|  120|xbox|         3|\n",
      "|8213060420|   20|0.249491| bluebubbles_1|        25|      1|  120|xbox|         3|\n",
      "|8213060420|   22| 0.24956| bluebubbles_1|        25|      1|  120|xbox|         3|\n",
      "|8213060420|   24|0.249653| bluebubbles_1|        25|      1|  120|xbox|         3|\n",
      "|8213060420|   26|0.249757| bluebubbles_1|        25|      1|  120|xbox|         3|\n",
      "|8213060420|   80| 0.59059|        sa4741|         3|      1|  120|xbox|         3|\n",
      "|8213060420|   75|0.657384|     jhnsn2273|        51|      1|  120|xbox|         3|\n",
      "|8213060420|   85|0.657917|     jhnsn2273|        51|      1|  120|xbox|         3|\n",
      "|8213060420|   83|0.816447|        sa4741|         3|      1|  120|xbox|         3|\n",
      "|8213060420|  100|1.005903|        sa4741|         3|      1|  120|xbox|         3|\n",
      "|8213060420|  100|1.012697|     jhnsn2273|        51|      1|  120|xbox|         3|\n",
      "|8213060420|  110|1.013056|     jhnsn2273|        51|      1|  120|xbox|         3|\n",
      "|8213060420|  105| 2.79934|      pagep123|         2|      1|  120|xbox|         3|\n",
      "|8213060420|  110|2.799676|      pagep123|         2|      1|  120|xbox|         3|\n",
      "|8213060420|  115|2.800197|      pagep123|         2|      1|  120|xbox|         3|\n",
      "+----------+-----+--------+--------------+----------+-------+-----+----+----------+\n",
      "only showing top 23 rows\n",
      "\n"
     ]
    }
   ],
   "source": [
    "# Hiển thị nội dung của DataFrame ra stdout\n",
    "df_2.show(23)"
   ]
  },
  {
   "cell_type": "code",
   "execution_count": 33,
   "id": "5a6f42fc",
   "metadata": {},
   "outputs": [
    {
     "name": "stdout",
     "output_type": "stream",
     "text": [
      "root\n",
      " |-- auctionid: string (nullable = true)\n",
      " |-- bid: string (nullable = true)\n",
      " |-- bidtime: string (nullable = true)\n",
      " |-- bidder: string (nullable = true)\n",
      " |-- bidderrate: string (nullable = true)\n",
      " |-- openbid: string (nullable = true)\n",
      " |-- price: string (nullable = true)\n",
      " |-- item: string (nullable = true)\n",
      " |-- daystolive: string (nullable = true)\n",
      "\n"
     ]
    }
   ],
   "source": [
    "# In ra stdout cấu trúc của DataFrame theo dạng cây\n",
    "df_2.printSchema()"
   ]
  },
  {
   "cell_type": "code",
   "execution_count": 34,
   "id": "25d2e008",
   "metadata": {},
   "outputs": [
    {
     "data": {
      "text/plain": [
       "627"
      ]
     },
     "execution_count": 34,
     "metadata": {},
     "output_type": "execute_result"
    }
   ],
   "source": [
    "# Đếm số cuộc đấu giá đã được tổ chức bằng câu lệnh\n",
    "df_2.select(\"auctionid\").distinct().count()"
   ]
  },
  {
   "cell_type": "code",
   "execution_count": 35,
   "id": "6ef5e430",
   "metadata": {},
   "outputs": [
    {
     "name": "stdout",
     "output_type": "stream",
     "text": [
      "+----------+-------+-----+\n",
      "| auctionid|   item|count|\n",
      "+----------+-------+-----+\n",
      "|1645883276|cartier|   12|\n",
      "|1641242797|cartier|    5|\n",
      "|1642005995|cartier|   18|\n",
      "|3020060476|   palm|   22|\n",
      "|1644681469|cartier|   14|\n",
      "|8212145833|   xbox|   26|\n",
      "|1638844464|cartier|   16|\n",
      "|3020573049|   palm|    2|\n",
      "|3015632013|   palm|   28|\n",
      "|3024659380|   palm|   26|\n",
      "|3025373736|   palm|   15|\n",
      "|8213387659|   xbox|   25|\n",
      "|1643201832|cartier|    4|\n",
      "|3014834745|   palm|   21|\n",
      "|3020257463|   palm|   16|\n",
      "|3020274575|   palm|   11|\n",
      "|3019821569|   palm|   27|\n",
      "|3024707992|   palm|   20|\n",
      "|8212277835|   xbox|    3|\n",
      "|3019326870|   palm|   33|\n",
      "+----------+-------+-----+\n",
      "only showing top 20 rows\n",
      "\n"
     ]
    }
   ],
   "source": [
    "# Đếm số lượng giá đấu trên mỗi mặt hàng\n",
    "df_2.groupBy(\"auctionid\", \"item\").count().show()"
   ]
  },
  {
   "cell_type": "code",
   "execution_count": 36,
   "id": "52381c1a",
   "metadata": {},
   "outputs": [
    {
     "name": "stdout",
     "output_type": "stream",
     "text": [
      "+----------+-----+--------+--------------+----------+-------+-----+----+----------+\n",
      "| auctionid|  bid| bidtime|        bidder|bidderrate|openbid|price|item|daystolive|\n",
      "+----------+-----+--------+--------------+----------+-------+-----+----+----------+\n",
      "|8213034705|   95|2.927373|      jake7870|         0|     95|117.5|xbox|         3|\n",
      "|8213034705|  115|2.943484| davidbresler2|         1|     95|117.5|xbox|         3|\n",
      "|8213034705|  100|2.951285|gladimacowgirl|        58|     95|117.5|xbox|         3|\n",
      "|8213034705|117.5|2.998947|       daysrus|        10|     95|117.5|xbox|         3|\n",
      "|8213060420|    2|0.065266|    donnie4814|         5|      1|  120|xbox|         3|\n",
      "|8213060420|15.25|0.123218|   myreeceyboy|        52|      1|  120|xbox|         3|\n",
      "|8213060420|    3|0.186539|  parakeet2004|         5|      1|  120|xbox|         3|\n",
      "|8213060420|   10| 0.18669|  parakeet2004|         5|      1|  120|xbox|         3|\n",
      "|8213060420|24.99|0.187049|  parakeet2004|         5|      1|  120|xbox|         3|\n",
      "|8213060420|   20|0.249491| bluebubbles_1|        25|      1|  120|xbox|         3|\n",
      "|8213060420|   22| 0.24956| bluebubbles_1|        25|      1|  120|xbox|         3|\n",
      "|8213060420|   24|0.249653| bluebubbles_1|        25|      1|  120|xbox|         3|\n",
      "|8213060420|   26|0.249757| bluebubbles_1|        25|      1|  120|xbox|         3|\n",
      "|8213060420|   80| 0.59059|        sa4741|         3|      1|  120|xbox|         3|\n",
      "|8213060420|   75|0.657384|     jhnsn2273|        51|      1|  120|xbox|         3|\n",
      "|8213060420|   85|0.657917|     jhnsn2273|        51|      1|  120|xbox|         3|\n",
      "|8213060420|   83|0.816447|        sa4741|         3|      1|  120|xbox|         3|\n",
      "|8213060420|  100|1.005903|        sa4741|         3|      1|  120|xbox|         3|\n",
      "|8213060420|  100|1.012697|     jhnsn2273|        51|      1|  120|xbox|         3|\n",
      "|8213060420|  110|1.013056|     jhnsn2273|        51|      1|  120|xbox|         3|\n",
      "+----------+-----+--------+--------------+----------+-------+-----+----+----------+\n",
      "only showing top 20 rows\n",
      "\n"
     ]
    }
   ],
   "source": [
    "# Lọc và hiển thị tất cả những phiên đấu giá có giá đóng cửa lớn hơn 100\n",
    "highprice = df_2.filter(\"price > 100\")\n",
    "highprice.show()"
   ]
  },
  {
   "cell_type": "markdown",
   "id": "42e38a76",
   "metadata": {},
   "source": [
    "# Bai tap 3: Thao tac voi DataFrame bang ngon ngu SQL\n",
    "# data people"
   ]
  },
  {
   "cell_type": "code",
   "execution_count": 37,
   "id": "9b254f37",
   "metadata": {},
   "outputs": [],
   "source": [
    "# Tạo một khung nhìn tạm (SQL temporary view) từ DataFrame df\n",
    "df_1.createOrReplaceTempView(\"people\")"
   ]
  },
  {
   "cell_type": "code",
   "execution_count": 38,
   "id": "4c64b9bf",
   "metadata": {},
   "outputs": [
    {
     "name": "stdout",
     "output_type": "stream",
     "text": [
      "+----+-------+\n",
      "| age|   name|\n",
      "+----+-------+\n",
      "|NULL|Michael|\n",
      "|  30|   Andy|\n",
      "|  19| Justin|\n",
      "+----+-------+\n",
      "\n"
     ]
    }
   ],
   "source": [
    "# Truy vấn toàn bộ dữ liệu và hiển thị kết quả\n",
    "sqlDF = spark.sql(\"SELECT * FROM people\")\n",
    "sqlDF.show()"
   ]
  },
  {
   "cell_type": "code",
   "execution_count": 39,
   "id": "8f105193",
   "metadata": {},
   "outputs": [
    {
     "name": "stdout",
     "output_type": "stream",
     "text": [
      "+-------+\n",
      "|   name|\n",
      "+-------+\n",
      "|Michael|\n",
      "|   Andy|\n",
      "| Justin|\n",
      "+-------+\n",
      "\n"
     ]
    }
   ],
   "source": [
    "# Chọn duy nhất một cột “name” để hiển thị\n",
    "sqlDF = spark.sql(\"SELECT name FROM people\")\n",
    "sqlDF.show()"
   ]
  },
  {
   "cell_type": "code",
   "execution_count": 43,
   "id": "8aca61f1",
   "metadata": {},
   "outputs": [
    {
     "name": "stdout",
     "output_type": "stream",
     "text": [
      "+-------+---------------+\n",
      "|   name|incremented_age|\n",
      "+-------+---------------+\n",
      "|Michael|           NULL|\n",
      "|   Andy|             31|\n",
      "| Justin|             20|\n",
      "+-------+---------------+\n",
      "\n"
     ]
    }
   ],
   "source": [
    "# Hiển thị toàn bộ các cột với tất cả giá trị của cột “age” tăng thêm 1\n",
    "sqlDF = spark.sql(\"SELECT name, age + 1 AS incremented_age FROM people\")\n",
    "sqlDF.show()"
   ]
  },
  {
   "cell_type": "code",
   "execution_count": 45,
   "id": "46f550ac",
   "metadata": {},
   "outputs": [
    {
     "name": "stdout",
     "output_type": "stream",
     "text": [
      "+---+----+\n",
      "|age|name|\n",
      "+---+----+\n",
      "| 30|Andy|\n",
      "+---+----+\n",
      "\n"
     ]
    }
   ],
   "source": [
    "# Lọc ra những người có tuổi lớn hơn 21\n",
    "sqlDF = spark.sql(\"SELECT * FROM people WHERE age > 21\")\n",
    "sqlDF.show()"
   ]
  },
  {
   "cell_type": "code",
   "execution_count": 46,
   "id": "83cceafc",
   "metadata": {},
   "outputs": [
    {
     "name": "stdout",
     "output_type": "stream",
     "text": [
      "+-----------+----+\n",
      "|count(name)| age|\n",
      "+-----------+----+\n",
      "|          1|  19|\n",
      "|          1|NULL|\n",
      "|          1|  30|\n",
      "+-----------+----+\n",
      "\n"
     ]
    }
   ],
   "source": [
    "# Đếm số người theo từng độ tuổi\n",
    "sqlDF = spark.sql(\"SELECT count(name),age FROM people GROUP BY age\")\n",
    "sqlDF.show()"
   ]
  },
  {
   "cell_type": "markdown",
   "id": "9454ed21",
   "metadata": {},
   "source": [
    "# Bai tap 3: Thao tac voi DataFrame bang ngon ngu SQL\n",
    "# data eby"
   ]
  },
  {
   "cell_type": "code",
   "execution_count": 47,
   "id": "efaa935a",
   "metadata": {},
   "outputs": [],
   "source": [
    "df_2.createOrReplaceTempView(\"ebay\")"
   ]
  },
  {
   "cell_type": "code",
   "execution_count": 49,
   "id": "131c1f77",
   "metadata": {},
   "outputs": [
    {
     "name": "stdout",
     "output_type": "stream",
     "text": [
      "+----------+-----+--------+--------------+----------+-------+-----+----+----------+\n",
      "| auctionid|  bid| bidtime|        bidder|bidderrate|openbid|price|item|daystolive|\n",
      "+----------+-----+--------+--------------+----------+-------+-----+----+----------+\n",
      "|8213034705|   95|2.927373|      jake7870|         0|     95|117.5|xbox|         3|\n",
      "|8213034705|  115|2.943484| davidbresler2|         1|     95|117.5|xbox|         3|\n",
      "|8213034705|  100|2.951285|gladimacowgirl|        58|     95|117.5|xbox|         3|\n",
      "|8213034705|117.5|2.998947|       daysrus|        10|     95|117.5|xbox|         3|\n",
      "|8213060420|    2|0.065266|    donnie4814|         5|      1|  120|xbox|         3|\n",
      "|8213060420|15.25|0.123218|   myreeceyboy|        52|      1|  120|xbox|         3|\n",
      "|8213060420|    3|0.186539|  parakeet2004|         5|      1|  120|xbox|         3|\n",
      "|8213060420|   10| 0.18669|  parakeet2004|         5|      1|  120|xbox|         3|\n",
      "|8213060420|24.99|0.187049|  parakeet2004|         5|      1|  120|xbox|         3|\n",
      "|8213060420|   20|0.249491| bluebubbles_1|        25|      1|  120|xbox|         3|\n",
      "|8213060420|   22| 0.24956| bluebubbles_1|        25|      1|  120|xbox|         3|\n",
      "|8213060420|   24|0.249653| bluebubbles_1|        25|      1|  120|xbox|         3|\n",
      "|8213060420|   26|0.249757| bluebubbles_1|        25|      1|  120|xbox|         3|\n",
      "|8213060420|   80| 0.59059|        sa4741|         3|      1|  120|xbox|         3|\n",
      "|8213060420|   75|0.657384|     jhnsn2273|        51|      1|  120|xbox|         3|\n",
      "|8213060420|   85|0.657917|     jhnsn2273|        51|      1|  120|xbox|         3|\n",
      "|8213060420|   83|0.816447|        sa4741|         3|      1|  120|xbox|         3|\n",
      "|8213060420|  100|1.005903|        sa4741|         3|      1|  120|xbox|         3|\n",
      "|8213060420|  100|1.012697|     jhnsn2273|        51|      1|  120|xbox|         3|\n",
      "|8213060420|  110|1.013056|     jhnsn2273|        51|      1|  120|xbox|         3|\n",
      "|8213060420|  105| 2.79934|      pagep123|         2|      1|  120|xbox|         3|\n",
      "|8213060420|  110|2.799676|      pagep123|         2|      1|  120|xbox|         3|\n",
      "|8213060420|  115|2.800197|      pagep123|         2|      1|  120|xbox|         3|\n",
      "+----------+-----+--------+--------------+----------+-------+-----+----+----------+\n",
      "only showing top 23 rows\n",
      "\n"
     ]
    }
   ],
   "source": [
    "# Truy vấn toàn bộ dữ liệu và hiển thị kết quả\n",
    "sqlDF = spark.sql(\"SELECT * FROM ebay\")\n",
    "sqlDF.show(23)"
   ]
  },
  {
   "cell_type": "code",
   "execution_count": 52,
   "id": "cb833446",
   "metadata": {},
   "outputs": [
    {
     "name": "stdout",
     "output_type": "stream",
     "text": [
      "+-------------------------+\n",
      "|count(DISTINCT auctionid)|\n",
      "+-------------------------+\n",
      "|                      627|\n",
      "+-------------------------+\n",
      "\n"
     ]
    }
   ],
   "source": [
    "# Đếm số cuộc đấu giá đã được tổ chức bằng câu lệnh\n",
    "sqlDF = spark.sql(\"SELECT count(distinct auctionid) FROM ebay\")\n",
    "sqlDF.show()"
   ]
  },
  {
   "cell_type": "code",
   "execution_count": 57,
   "id": "f024fd0b",
   "metadata": {},
   "outputs": [
    {
     "name": "stdout",
     "output_type": "stream",
     "text": [
      "+----------+-------+------------+\n",
      "| auctionid|   item|count(price)|\n",
      "+----------+-------+------------+\n",
      "|1645883276|cartier|          12|\n",
      "|1641242797|cartier|           5|\n",
      "|1642005995|cartier|          18|\n",
      "|3020060476|   palm|          22|\n",
      "|1644681469|cartier|          14|\n",
      "|8212145833|   xbox|          26|\n",
      "|1638844464|cartier|          16|\n",
      "|3020573049|   palm|           2|\n",
      "|3015632013|   palm|          28|\n",
      "|3024659380|   palm|          26|\n",
      "|3025373736|   palm|          15|\n",
      "|8213387659|   xbox|          25|\n",
      "|1643201832|cartier|           4|\n",
      "|3014834745|   palm|          21|\n",
      "|3020257463|   palm|          16|\n",
      "|3020274575|   palm|          11|\n",
      "|3019821569|   palm|          27|\n",
      "|3024707992|   palm|          20|\n",
      "|8212277835|   xbox|           3|\n",
      "|3019326870|   palm|          33|\n",
      "+----------+-------+------------+\n",
      "only showing top 20 rows\n",
      "\n"
     ]
    }
   ],
   "source": [
    "# Đếm số lượng giá đấu trên mỗi mặt hàng\n",
    "sqlDF = spark.sql(\"SELECT auctionid,item, count(price) FROM ebay GROUP BY auctionid,item\")\n",
    "sqlDF.show()"
   ]
  },
  {
   "cell_type": "code",
   "execution_count": 58,
   "id": "d537538c",
   "metadata": {},
   "outputs": [
    {
     "name": "stdout",
     "output_type": "stream",
     "text": [
      "+----------+-----+--------+--------------+----------+-------+-----+----+----------+\n",
      "| auctionid|  bid| bidtime|        bidder|bidderrate|openbid|price|item|daystolive|\n",
      "+----------+-----+--------+--------------+----------+-------+-----+----+----------+\n",
      "|8213034705|   95|2.927373|      jake7870|         0|     95|117.5|xbox|         3|\n",
      "|8213034705|  115|2.943484| davidbresler2|         1|     95|117.5|xbox|         3|\n",
      "|8213034705|  100|2.951285|gladimacowgirl|        58|     95|117.5|xbox|         3|\n",
      "|8213034705|117.5|2.998947|       daysrus|        10|     95|117.5|xbox|         3|\n",
      "|8213060420|    2|0.065266|    donnie4814|         5|      1|  120|xbox|         3|\n",
      "|8213060420|15.25|0.123218|   myreeceyboy|        52|      1|  120|xbox|         3|\n",
      "|8213060420|    3|0.186539|  parakeet2004|         5|      1|  120|xbox|         3|\n",
      "|8213060420|   10| 0.18669|  parakeet2004|         5|      1|  120|xbox|         3|\n",
      "|8213060420|24.99|0.187049|  parakeet2004|         5|      1|  120|xbox|         3|\n",
      "|8213060420|   20|0.249491| bluebubbles_1|        25|      1|  120|xbox|         3|\n",
      "|8213060420|   22| 0.24956| bluebubbles_1|        25|      1|  120|xbox|         3|\n",
      "|8213060420|   24|0.249653| bluebubbles_1|        25|      1|  120|xbox|         3|\n",
      "|8213060420|   26|0.249757| bluebubbles_1|        25|      1|  120|xbox|         3|\n",
      "|8213060420|   80| 0.59059|        sa4741|         3|      1|  120|xbox|         3|\n",
      "|8213060420|   75|0.657384|     jhnsn2273|        51|      1|  120|xbox|         3|\n",
      "|8213060420|   85|0.657917|     jhnsn2273|        51|      1|  120|xbox|         3|\n",
      "|8213060420|   83|0.816447|        sa4741|         3|      1|  120|xbox|         3|\n",
      "|8213060420|  100|1.005903|        sa4741|         3|      1|  120|xbox|         3|\n",
      "|8213060420|  100|1.012697|     jhnsn2273|        51|      1|  120|xbox|         3|\n",
      "|8213060420|  110|1.013056|     jhnsn2273|        51|      1|  120|xbox|         3|\n",
      "+----------+-----+--------+--------------+----------+-------+-----+----+----------+\n",
      "only showing top 20 rows\n",
      "\n"
     ]
    }
   ],
   "source": [
    "# Lọc và hiển thị tất cả những phiên đấu giá có giá đóng cửa lớn hơn 100\n",
    "sqlDF = spark.sql(\"SELECT * FROM ebay WHERE price > 100\")\n",
    "sqlDF.show()"
   ]
  },
  {
   "cell_type": "code",
   "execution_count": null,
   "id": "3d4f4dc1",
   "metadata": {},
   "outputs": [],
   "source": []
  }
 ],
 "metadata": {
  "kernelspec": {
   "display_name": "Python 3 (ipykernel)",
   "language": "python",
   "name": "python3"
  },
  "language_info": {
   "codemirror_mode": {
    "name": "ipython",
    "version": 3
   },
   "file_extension": ".py",
   "mimetype": "text/x-python",
   "name": "python",
   "nbconvert_exporter": "python",
   "pygments_lexer": "ipython3",
   "version": "3.11.6"
  }
 },
 "nbformat": 4,
 "nbformat_minor": 5
}
