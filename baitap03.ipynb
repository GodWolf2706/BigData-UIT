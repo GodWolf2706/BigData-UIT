{
 "cells": [
  {
   "cell_type": "code",
   "execution_count": 1,
   "id": "94da57e4",
   "metadata": {},
   "outputs": [],
   "source": [
    "import pyspark"
   ]
  },
  {
   "cell_type": "code",
   "execution_count": 16,
   "id": "eb3cd535",
   "metadata": {},
   "outputs": [],
   "source": [
    "from pyspark.sql import SparkSession\n",
    "from pyspark.sql.functions import expr\n",
    "\n",
    "# Khởi tạo SparkSession\n",
    "spark = SparkSession.builder \\\n",
    "    .appName(\"Fraction Calculation\") \\\n",
    "    .getOrCreate()\n",
    "\n",
    "# Doc du lieu tu tep co san tren may\n",
    "df = spark.read.text(\"data_phanso\")"
   ]
  },
  {
   "cell_type": "code",
   "execution_count": 17,
   "id": "a0af292e",
   "metadata": {},
   "outputs": [
    {
     "name": "stdout",
     "output_type": "stream",
     "text": [
      "Tong phan so 151 / 40\n"
     ]
    }
   ],
   "source": [
    "# tach tu so voi mau so\n",
    "getvalue = df.selectExpr(\"split(value, '/') as fraction\") \\\n",
    "                   .selectExpr(\"cast(fraction[0] as int) as numerator\", \"cast(fraction[1] as int) as denominator\")\n",
    "\n",
    "# tim boi so chung nho nhat cua mau so\n",
    "# tim so chung lon nhat\n",
    "def gcd(a, b):\n",
    "    while b:\n",
    "        a, b = b, a % b\n",
    "    return a\n",
    "# tim boi so chung nho nhat\n",
    "def lcm(a, b):\n",
    "    return a * b / gcd(a, b)\n",
    "\n",
    "# tinh boi so chung nho nhat cua mau so\n",
    "bcnn = getvalue.select(expr(\"max(denominator)\")).collect()[0][0]\n",
    "for row in getvalue.collect():\n",
    "    bcnn = lcm(bcnn, row[\"denominator\"])\n",
    "\n",
    "# tinh tong phan so\n",
    "total_numerator = 0\n",
    "for row in getvalue.collect():\n",
    "    total_numerator += row[\"numerator\"] * (bcnn // row[\"denominator\"])\n",
    "\n",
    "# rut gon phan so\n",
    "gcd_value = gcd(total_numerator, bcnn)\n",
    "total_numerator /= gcd_value\n",
    "bcnn /= gcd_value\n",
    "\n",
    "print(\"Tong phan so\", int(total_numerator), \"/\", int(bcnn))\n",
    "\n",
    "spark.stop()"
   ]
  },
  {
   "cell_type": "code",
   "execution_count": null,
   "id": "d369f44f",
   "metadata": {},
   "outputs": [],
   "source": []
  }
 ],
 "metadata": {
  "kernelspec": {
   "display_name": "Python 3 (ipykernel)",
   "language": "python",
   "name": "python3"
  },
  "language_info": {
   "codemirror_mode": {
    "name": "ipython",
    "version": 3
   },
   "file_extension": ".py",
   "mimetype": "text/x-python",
   "name": "python",
   "nbconvert_exporter": "python",
   "pygments_lexer": "ipython3",
   "version": "3.11.6"
  }
 },
 "nbformat": 4,
 "nbformat_minor": 5
}
