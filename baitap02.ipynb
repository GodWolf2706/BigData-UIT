{
 "cells": [
  {
   "cell_type": "code",
   "execution_count": 1,
   "id": "6929a8a2",
   "metadata": {},
   "outputs": [],
   "source": [
    "import pyspark"
   ]
  },
  {
   "cell_type": "code",
   "execution_count": 7,
   "id": "ea872fa5",
   "metadata": {},
   "outputs": [],
   "source": [
    "from pyspark import SparkContext\n",
    "import math\n",
    "from math import sqrt"
   ]
  },
  {
   "cell_type": "code",
   "execution_count": 16,
   "id": "ce325321",
   "metadata": {},
   "outputs": [],
   "source": [
    "sc = SparkContext(\"local\",\"Tinh phuong sai va do lech chuan\")"
   ]
  },
  {
   "cell_type": "code",
   "execution_count": 17,
   "id": "b58238c4",
   "metadata": {},
   "outputs": [
    {
     "name": "stdout",
     "output_type": "stream",
     "text": [
      "Phuong sai: 6.666666666666667\n",
      "Do lech chuan: 2.581988897471611\n"
     ]
    }
   ],
   "source": [
    "#tao rdd tu 1 danh sach cac so thuc\n",
    "data = [1,2,3,4,5,6,7,8,9]\n",
    "distData = sc.parallelize(data)\n",
    "\n",
    "#trung binh va dem so luong phan tu\n",
    "trungbinh = distData.mean()\n",
    "\n",
    "#phuong sai\n",
    "phuongsai = distData.map(lambda x: (x - trungbinh) ** 2).sum()/distData.count()\n",
    "print(\"Phuong sai:\", phuongsai)\n",
    "# map dung de goi lambda de tinh binh phuong su chenh lech giua moi so voi trung binh\n",
    "\n",
    "#do lech chuan\n",
    "dolechchuan = sqrt(phuongsai)\n",
    "print(\"Do lech chuan:\", dolechchuan) \n",
    "\n",
    "sc.stop() "
   ]
  }
 ],
 "metadata": {
  "kernelspec": {
   "display_name": "Python 3 (ipykernel)",
   "language": "python",
   "name": "python3"
  },
  "language_info": {
   "codemirror_mode": {
    "name": "ipython",
    "version": 3
   },
   "file_extension": ".py",
   "mimetype": "text/x-python",
   "name": "python",
   "nbconvert_exporter": "python",
   "pygments_lexer": "ipython3",
   "version": "3.11.6"
  }
 },
 "nbformat": 4,
 "nbformat_minor": 5
}
