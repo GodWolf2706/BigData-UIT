{
 "cells": [
  {
   "cell_type": "code",
   "execution_count": 3,
   "id": "d8fac767",
   "metadata": {},
   "outputs": [],
   "source": [
    "import pyspark"
   ]
  },
  {
   "cell_type": "code",
   "execution_count": 4,
   "id": "59ffb2c3",
   "metadata": {},
   "outputs": [
    {
     "name": "stderr",
     "output_type": "stream",
     "text": [
      "24/05/20 00:53:26 WARN Utils: Your hostname, godwolf-2-7 resolves to a loopback address: 127.0.1.1; using 10.0.2.15 instead (on interface enp0s3)\n",
      "24/05/20 00:53:26 WARN Utils: Set SPARK_LOCAL_IP if you need to bind to another address\n",
      "Setting default log level to \"WARN\".\n",
      "To adjust logging level use sc.setLogLevel(newLevel). For SparkR, use setLogLevel(newLevel).\n",
      "24/05/20 00:53:27 WARN NativeCodeLoader: Unable to load native-hadoop library for your platform... using builtin-java classes where applicable\n",
      "24/05/20 00:53:28 WARN Utils: Service 'SparkUI' could not bind on port 4040. Attempting port 4041.\n"
     ]
    }
   ],
   "source": [
    "from pyspark.sql import SparkSession\n",
    "\n",
    "# Khởi tạo SparkSession\n",
    "spark = SparkSession.builder \\\n",
    "    .appName(\"MLLib\") \\\n",
    "    .getOrCreate()"
   ]
  },
  {
   "cell_type": "markdown",
   "id": "d6fed227",
   "metadata": {},
   "source": [
    "# Bài tập 1: Thao tác với dữ liệu đầu vào"
   ]
  },
  {
   "cell_type": "code",
   "execution_count": 5,
   "id": "c69b2068",
   "metadata": {},
   "outputs": [
    {
     "name": "stderr",
     "output_type": "stream",
     "text": [
      "\r",
      "[Stage 0:===========================================================(1 + 0) / 1]\r",
      "\r",
      "                                                                                \r"
     ]
    }
   ],
   "source": [
    "# Sử dụng biến SparkSession để đọc dữ liệu đầu vào từ tập tin csv.\n",
    "data = spark.read.format(\"csv\")\\\n",
    ".option(\"header\", \"true\")\\\n",
    ".option(\"inferSchema\", \"true\")\\\n",
    ".load(\"/home/godwolf/Downloads/spark-3.5.1-bin-hadoop3/python/TH4/TH5_Attachments/data_geo.csv\")"
   ]
  },
  {
   "cell_type": "code",
   "execution_count": 6,
   "id": "b6be1da6",
   "metadata": {},
   "outputs": [
    {
     "data": {
      "text/plain": [
       "DataFrame[2014 rank: int, City: string, State: string, State Code: string, 2014 Population estimate: int, 2015 median sales price: double]"
      ]
     },
     "execution_count": 6,
     "metadata": {},
     "output_type": "execute_result"
    }
   ],
   "source": [
    "data.cache()"
   ]
  },
  {
   "cell_type": "code",
   "execution_count": 7,
   "id": "a4bff99a",
   "metadata": {},
   "outputs": [
    {
     "data": {
      "text/plain": [
       "294"
      ]
     },
     "execution_count": 7,
     "metadata": {},
     "output_type": "execute_result"
    }
   ],
   "source": [
    "data.count()"
   ]
  },
  {
   "cell_type": "code",
   "execution_count": 8,
   "id": "7e1349a9",
   "metadata": {},
   "outputs": [
    {
     "data": {
      "text/plain": [
       "DataFrame[2014 rank: int, City: string, State: string, State Code: string, 2014 Population estimate: int, 2015 median sales price: double]"
      ]
     },
     "metadata": {},
     "output_type": "display_data"
    }
   ],
   "source": [
    "# Hiển thị thông tin dữ liệu\n",
    "display(data)"
   ]
  },
  {
   "cell_type": "code",
   "execution_count": 9,
   "id": "931b7d92",
   "metadata": {},
   "outputs": [
    {
     "name": "stdout",
     "output_type": "stream",
     "text": [
      "root\n",
      " |-- 2014 rank: integer (nullable = true)\n",
      " |-- City: string (nullable = true)\n",
      " |-- State: string (nullable = true)\n",
      " |-- State Code: string (nullable = true)\n",
      " |-- 2014 Population estimate: integer (nullable = true)\n",
      " |-- 2015 median sales price: double (nullable = true)\n",
      "\n"
     ]
    }
   ],
   "source": [
    "data.printSchema()"
   ]
  },
  {
   "cell_type": "code",
   "execution_count": 10,
   "id": "5642c20d",
   "metadata": {},
   "outputs": [
    {
     "data": {
      "text/plain": [
       "109"
      ]
     },
     "execution_count": 10,
     "metadata": {},
     "output_type": "execute_result"
    }
   ],
   "source": [
    "# Loại bỏ các dòng có giá trị trống\n",
    "data = data.dropna()\n",
    "data.count()"
   ]
  },
  {
   "cell_type": "code",
   "execution_count": 11,
   "id": "c5a03044",
   "metadata": {},
   "outputs": [],
   "source": [
    "# Tạo View để truy vấn hiển thị dữ liệu\n",
    "data.createOrReplaceTempView(\"data_geo\")"
   ]
  },
  {
   "cell_type": "code",
   "execution_count": 12,
   "id": "754b2042",
   "metadata": {},
   "outputs": [
    {
     "name": "stdout",
     "output_type": "stream",
     "text": [
      "+-----------------+----------+-----------------+-----------------------+\n",
      "|             City|State Code|2014 Pop estimate|2015 median sales price|\n",
      "+-----------------+----------+-----------------+-----------------------+\n",
      "|       Birmingham|        AL|          212.247|                  162.9|\n",
      "|       Huntsville|        AL|          188.226|                  157.7|\n",
      "|           Mobile|        AL|          194.675|                  122.5|\n",
      "|       Montgomery|        AL|          200.481|                  129.0|\n",
      "|          Phoenix|        AZ|         1537.058|                  206.1|\n",
      "|           Tucson|        AZ|          527.972|                  178.1|\n",
      "|      Little Rock|        AR|          197.706|                  131.8|\n",
      "|          Anaheim|        CA|          346.997|                  685.7|\n",
      "|      Los Angeles|        CA|         3928.864|                  434.7|\n",
      "|        Riverside|        CA|          319.504|                  281.0|\n",
      "|       Sacramento|        CA|          485.199|                  275.8|\n",
      "|        San Diego|        CA|         1381.069|                  510.3|\n",
      "|San Francisco[10]|        CA|          852.469|                  748.3|\n",
      "|         San Jose|        CA|         1015.785|                  900.0|\n",
      "|          Boulder|        CO|          105.112|                  442.2|\n",
      "| Colorado Springs|        CO|           445.83|                  220.1|\n",
      "|       Denver[12]|        CO|          663.862|                  338.1|\n",
      "|       Bridgeport|        CT|          147.612|                  342.7|\n",
      "|         Hartford|        CT|          124.705|                  202.6|\n",
      "|        New Haven|        CT|          130.282|                  205.1|\n",
      "+-----------------+----------+-----------------+-----------------------+\n",
      "only showing top 20 rows\n",
      "\n"
     ]
    }
   ],
   "source": [
    "df1 = spark.sql(\"SELECT City, `State Code`, `2014 Population estimate`/1000 as `2014 Pop estimate`, `2015 median sales price` FROM data_geo\")\n",
    "df1.show()"
   ]
  },
  {
   "cell_type": "code",
   "execution_count": 13,
   "id": "0cd95354",
   "metadata": {},
   "outputs": [
    {
     "name": "stdout",
     "output_type": "stream",
     "text": [
      "+------------------------+-----+\n",
      "|2014 Population estimate|label|\n",
      "+------------------------+-----+\n",
      "|                  212247|162.9|\n",
      "|                  188226|157.7|\n",
      "|                  194675|122.5|\n",
      "|                  200481|129.0|\n",
      "|                 1537058|206.1|\n",
      "|                  527972|178.1|\n",
      "|                  197706|131.8|\n",
      "|                  346997|685.7|\n",
      "|                 3928864|434.7|\n",
      "|                  319504|281.0|\n",
      "|                  485199|275.8|\n",
      "|                 1381069|510.3|\n",
      "|                  852469|748.3|\n",
      "|                 1015785|900.0|\n",
      "|                  105112|442.2|\n",
      "|                  445830|220.1|\n",
      "|                  663862|338.1|\n",
      "|                  147612|342.7|\n",
      "|                  124705|202.6|\n",
      "|                  130282|205.1|\n",
      "+------------------------+-----+\n",
      "only showing top 20 rows\n",
      "\n"
     ]
    }
   ],
   "source": [
    "# Tiền xử lý dữ liệu\n",
    "df2 = spark.sql(\"SELECT `2014 Population estimate`,`2015 median sales price` as label FROM data_geo\")\n",
    "df2.show()"
   ]
  },
  {
   "cell_type": "code",
   "execution_count": 14,
   "id": "011952d5",
   "metadata": {},
   "outputs": [],
   "source": [
    "from pyspark.ml.linalg import Vectors\n",
    "from pyspark.ml.feature import VectorAssembler"
   ]
  },
  {
   "cell_type": "code",
   "execution_count": 15,
   "id": "6e22eefe",
   "metadata": {},
   "outputs": [
    {
     "data": {
      "text/plain": [
       "DataFrame[features: vector, label: double]"
      ]
     },
     "metadata": {},
     "output_type": "display_data"
    },
    {
     "name": "stdout",
     "output_type": "stream",
     "text": [
      "+------------------------+-----+-----------+\n",
      "|2014 Population estimate|label|   features|\n",
      "+------------------------+-----+-----------+\n",
      "|                  212247|162.9| [212247.0]|\n",
      "|                  188226|157.7| [188226.0]|\n",
      "|                  194675|122.5| [194675.0]|\n",
      "|                  200481|129.0| [200481.0]|\n",
      "|                 1537058|206.1|[1537058.0]|\n",
      "|                  527972|178.1| [527972.0]|\n",
      "|                  197706|131.8| [197706.0]|\n",
      "|                  346997|685.7| [346997.0]|\n",
      "|                 3928864|434.7|[3928864.0]|\n",
      "|                  319504|281.0| [319504.0]|\n",
      "|                  485199|275.8| [485199.0]|\n",
      "|                 1381069|510.3|[1381069.0]|\n",
      "|                  852469|748.3| [852469.0]|\n",
      "|                 1015785|900.0|[1015785.0]|\n",
      "|                  105112|442.2| [105112.0]|\n",
      "|                  445830|220.1| [445830.0]|\n",
      "|                  663862|338.1| [663862.0]|\n",
      "|                  147612|342.7| [147612.0]|\n",
      "|                  124705|202.6| [124705.0]|\n",
      "|                  130282|205.1| [130282.0]|\n",
      "+------------------------+-----+-----------+\n",
      "only showing top 20 rows\n",
      "\n"
     ]
    }
   ],
   "source": [
    "assembler = VectorAssembler(\n",
    "    inputCols=[\"2014 Population estimate\"],\n",
    "    outputCol=\"features\")\n",
    "data = assembler.transform(df2)\n",
    "display(data.select(\"features\",\"label\"))\n",
    "\n",
    "data.show()"
   ]
  },
  {
   "cell_type": "code",
   "execution_count": 16,
   "id": "d4885487",
   "metadata": {
    "collapsed": true
   },
   "outputs": [
    {
     "name": "stdout",
     "output_type": "stream",
     "text": [
      "Defaulting to user installation because normal site-packages is not writeable\n",
      "Requirement already satisfied: pandas in /home/godwolf/.local/lib/python3.11/site-packages (2.2.2)\n",
      "Requirement already satisfied: numpy>=1.23.2 in /usr/lib/python3/dist-packages (from pandas) (1.24.2)\n",
      "Requirement already satisfied: python-dateutil>=2.8.2 in /usr/lib/python3/dist-packages (from pandas) (2.8.2)\n",
      "Requirement already satisfied: pytz>=2020.1 in /usr/lib/python3/dist-packages (from pandas) (2023.3)\n",
      "Requirement already satisfied: tzdata>=2022.7 in /home/godwolf/.local/lib/python3.11/site-packages (from pandas) (2024.1)\n",
      "Note: you may need to restart the kernel to use updated packages.\n"
     ]
    }
   ],
   "source": [
    "pip install pandas"
   ]
  },
  {
   "cell_type": "code",
   "execution_count": 17,
   "id": "af407969",
   "metadata": {
    "collapsed": true
   },
   "outputs": [
    {
     "name": "stdout",
     "output_type": "stream",
     "text": [
      "Defaulting to user installation because normal site-packages is not writeable\n",
      "Requirement already satisfied: ggplot in /home/godwolf/.local/lib/python3.11/site-packages (0.11.5)\n",
      "Requirement already satisfied: brewer2mpl in /home/godwolf/.local/lib/python3.11/site-packages (from ggplot) (1.4.1)\n",
      "Requirement already satisfied: cycler in /usr/lib/python3/dist-packages (from ggplot) (0.11.0)\n",
      "Requirement already satisfied: matplotlib in /home/godwolf/.local/lib/python3.11/site-packages (from ggplot) (3.9.0)\n",
      "Requirement already satisfied: numpy in /usr/lib/python3/dist-packages (from ggplot) (1.24.2)\n",
      "Requirement already satisfied: pandas in /home/godwolf/.local/lib/python3.11/site-packages (from ggplot) (2.2.2)\n",
      "Requirement already satisfied: patsy>=0.4 in /home/godwolf/.local/lib/python3.11/site-packages (from ggplot) (0.5.6)\n",
      "Requirement already satisfied: scipy in /usr/lib/python3/dist-packages (from ggplot) (1.10.1)\n",
      "Requirement already satisfied: six in /usr/lib/python3/dist-packages (from ggplot) (1.16.0)\n",
      "Requirement already satisfied: statsmodels in /home/godwolf/.local/lib/python3.11/site-packages (from ggplot) (0.14.2)\n",
      "Requirement already satisfied: contourpy>=1.0.1 in /usr/lib/python3/dist-packages (from matplotlib->ggplot) (1.0.7)\n",
      "Requirement already satisfied: fonttools>=4.22.0 in /usr/lib/python3/dist-packages (from matplotlib->ggplot) (4.38.0)\n",
      "Requirement already satisfied: kiwisolver>=1.3.1 in /home/godwolf/.local/lib/python3.11/site-packages (from matplotlib->ggplot) (1.4.5)\n",
      "Requirement already satisfied: packaging>=20.0 in /usr/lib/python3/dist-packages (from matplotlib->ggplot) (23.1)\n",
      "Requirement already satisfied: pillow>=8 in /usr/lib/python3/dist-packages (from matplotlib->ggplot) (10.0.0)\n",
      "Requirement already satisfied: pyparsing>=2.3.1 in /usr/lib/python3/dist-packages (from matplotlib->ggplot) (3.1.0)\n",
      "Requirement already satisfied: python-dateutil>=2.7 in /usr/lib/python3/dist-packages (from matplotlib->ggplot) (2.8.2)\n",
      "Requirement already satisfied: pytz>=2020.1 in /usr/lib/python3/dist-packages (from pandas->ggplot) (2023.3)\n",
      "Requirement already satisfied: tzdata>=2022.7 in /home/godwolf/.local/lib/python3.11/site-packages (from pandas->ggplot) (2024.1)\n",
      "Note: you may need to restart the kernel to use updated packages.\n"
     ]
    }
   ],
   "source": [
    "pip install ggplot"
   ]
  },
  {
   "cell_type": "code",
   "execution_count": 18,
   "id": "c4472e5b",
   "metadata": {},
   "outputs": [],
   "source": [
    "# Trực quan hóa dữ liệu\n",
    "import numpy as np\n",
    "import matplotlib.pyplot as plt"
   ]
  },
  {
   "cell_type": "code",
   "execution_count": 19,
   "id": "398a4b38",
   "metadata": {},
   "outputs": [
    {
     "name": "stderr",
     "output_type": "stream",
     "text": [
      "                                                                                \r"
     ]
    }
   ],
   "source": [
    "x = data.rdd.map(lambda p: (p.features[0])).collect()\n",
    "y = data.rdd.map(lambda p: (p.label)).collect()"
   ]
  },
  {
   "cell_type": "code",
   "execution_count": 20,
   "id": "23d796ed",
   "metadata": {},
   "outputs": [],
   "source": [
    "from pandas import *\n",
    "from ggplot import *"
   ]
  },
  {
   "cell_type": "code",
   "execution_count": 21,
   "id": "572d9404",
   "metadata": {},
   "outputs": [
    {
     "data": {
      "image/png": "[encoded data removed]",
      "text/plain": [
       "<Figure size 1100x800 with 1 Axes>"
      ]
     },
     "metadata": {},
     "output_type": "display_data"
    },
    {
     "data": {
      "text/plain": [
       "<ggplot: (8776625430737)>"
      ]
     },
     "metadata": {},
     "output_type": "display_data"
    }
   ],
   "source": [
    "pydf = DataFrame({'pop':x,'price':y})\n",
    "p = ggplot(pydf, aes('pop','price')) + \\\n",
    "geom_point(color='blue')\n",
    "display(p)"
   ]
  },
  {
   "cell_type": "markdown",
   "id": "97bf2f45",
   "metadata": {},
   "source": [
    "# Bài tập 2: Sử dụng mô hình hồi quy tuyến tính để dự báo kết quả giá bán"
   ]
  },
  {
   "cell_type": "code",
   "execution_count": 22,
   "id": "2f728cae",
   "metadata": {},
   "outputs": [],
   "source": [
    "# Thêm lớp LinearRegression từ thư viện máy học\n",
    "from pyspark.ml.regression import LinearRegression"
   ]
  },
  {
   "cell_type": "code",
   "execution_count": 23,
   "id": "99849c21",
   "metadata": {},
   "outputs": [],
   "source": [
    "# Tạo biến LinearRegression để sử dụng\n",
    "lr = LinearRegression()"
   ]
  },
  {
   "cell_type": "code",
   "execution_count": 24,
   "id": "0c7f4bdd",
   "metadata": {},
   "outputs": [
    {
     "name": "stderr",
     "output_type": "stream",
     "text": [
      "24/05/20 00:54:50 WARN Instrumentation: [b215987f] regParam is zero, which might cause numerical instability and overfitting.\n"
     ]
    }
   ],
   "source": [
    "# Tạo ra hai mô hình tương ứng với hai tham số\n",
    "modelA = lr.fit(data, {lr.regParam:0.0})\n",
    "modelB = lr.fit(data, {lr.regParam:100.0})"
   ]
  },
  {
   "cell_type": "code",
   "execution_count": 25,
   "id": "17eae273",
   "metadata": {},
   "outputs": [
    {
     "name": "stdout",
     "output_type": "stream",
     "text": [
      ">>>> ModelA intercept: 191.29427575139394, coefficient: 3.779789682338248e-05\n",
      ">>>> ModelB intercept: 199.85112564667153, coefficient: 2.1603499483717156e-05\n"
     ]
    }
   ],
   "source": [
    "# Hiển thị thông tin của hai mô hình\n",
    "print(\">>>> ModelA intercept: {}, coefficient: {}\".format(modelA.intercept, modelA.coefficients[0]))\n",
    "print(\">>>> ModelB intercept: {}, coefficient: {}\".format(modelB.intercept, modelB.coefficients[0]))"
   ]
  },
  {
   "cell_type": "code",
   "execution_count": 26,
   "id": "41414e79",
   "metadata": {},
   "outputs": [
    {
     "name": "stdout",
     "output_type": "stream",
     "text": [
      "+------------------------+-----+-----------+------------------+\n",
      "|2014 Population estimate|label|   features|        prediction|\n",
      "+------------------------+-----+-----------+------------------+\n",
      "|                  212247|162.9| [212247.0]| 199.3167659584664|\n",
      "|                  188226|157.7| [188226.0]|198.40882267887193|\n",
      "|                  194675|122.5| [194675.0]|198.65258131548592|\n",
      "|                  200481|129.0| [200481.0]|198.87203590444247|\n",
      "|                 1537058|206.1|[1537058.0]|249.39183544694856|\n",
      "|                  527972|178.1| [527972.0]|211.25050693302884|\n",
      "|                  197706|131.8| [197706.0]| 198.7671467407576|\n",
      "|                  346997|685.7| [346997.0]| 204.4100325554172|\n",
      "|                 3928864|434.7|[3928864.0]|339.79707185649573|\n",
      "|                  319504|281.0| [319504.0]|203.37085497805194|\n",
      "|                  485199|275.8| [485199.0]|209.63377749220228|\n",
      "|                 1381069|510.3|[1381069.0]|243.49577931936597|\n",
      "|                  852469|748.3| [852469.0]|223.51581105852597|\n",
      "|                 1015785|900.0|[1015785.0]| 229.6888123761335|\n",
      "|                  105112|442.2| [105112.0]|195.26728828229332|\n",
      "|                  445830|220.1| [445830.0]|208.14571209216254|\n",
      "|                  663862|338.1| [663862.0]| 216.3868631323583|\n",
      "|                  147612|342.7| [147612.0]|196.87369889728708|\n",
      "|                  124705|202.6| [124705.0]|196.00786247475386|\n",
      "|                  130282|205.1| [130282.0]|196.21866134533786|\n",
      "+------------------------+-----+-----------+------------------+\n",
      "only showing top 20 rows\n",
      "\n",
      "+------------------------+-----+-----------+------------------+\n",
      "|2014 Population estimate|label|   features|        prediction|\n",
      "+------------------------+-----+-----------+------------------+\n",
      "|                  212247|162.9| [212247.0]|204.43640360159205|\n",
      "|                  188226|157.7| [188226.0]|203.91746594049368|\n",
      "|                  194675|122.5| [194675.0]|204.05678690866418|\n",
      "|                  200481|129.0| [200481.0]|204.18221682666663|\n",
      "|                 1537058|206.1|[1537058.0]|233.05695735611485|\n",
      "|                  527972|178.1| [527972.0]|211.25716847608865|\n",
      "|                  197706|131.8| [197706.0]|204.12226711559933|\n",
      "|                  346997|685.7| [346997.0]|207.34747515702293|\n",
      "|                 3928864|434.7|[3928864.0]|284.72833704226645|\n",
      "|                  319504|281.0| [319504.0]| 206.7535301457171|\n",
      "|                  485199|275.8| [485199.0]| 210.3331219926716|\n",
      "|                 1381069|510.3|[1381069.0]| 229.6870490751493|\n",
      "|                  852469|748.3| [852469.0]| 218.2674392480564|\n",
      "|                 1015785|900.0|[1015785.0]|221.79563636973916|\n",
      "|                  105112|442.2| [105112.0]|  202.121912684404|\n",
      "|                  445830|220.1| [445830.0]|209.48261382149715|\n",
      "|                  663862|338.1| [663862.0]|214.19286802093097|\n",
      "|                  147612|342.7| [147612.0]|  203.040061412462|\n",
      "|                  124705|202.6| [124705.0]| 202.5451900497885|\n",
      "|                  130282|205.1| [130282.0]|202.66567276640916|\n",
      "+------------------------+-----+-----------+------------------+\n",
      "only showing top 20 rows\n",
      "\n"
     ]
    }
   ],
   "source": [
    "# Hiển thị thông tin của hai mô hình\n",
    "predictionsA = modelA.transform(data)\n",
    "predictionsA.show()\n",
    "\n",
    "predictionsB = modelB.transform(data)\n",
    "predictionsB.show()"
   ]
  },
  {
   "cell_type": "markdown",
   "id": "dee55fac",
   "metadata": {},
   "source": [
    "# Bài tập 3: Đánh giá mô hình dự đoán"
   ]
  },
  {
   "cell_type": "code",
   "execution_count": 27,
   "id": "15d385e2",
   "metadata": {},
   "outputs": [],
   "source": [
    "# Thêm lớp RegressionEvaluator từ thư viện máy học\n",
    "from pyspark.ml.evaluation import RegressionEvaluator"
   ]
  },
  {
   "cell_type": "code",
   "execution_count": 28,
   "id": "aae787ca",
   "metadata": {},
   "outputs": [
    {
     "name": "stdout",
     "output_type": "stream",
     "text": [
      "ModelA: Root Mean Squared Error = 128.60202684284758\n",
      "ModelB: Root Mean Squared Error = 129.49630019270606\n"
     ]
    }
   ],
   "source": [
    "# Sử dụng phương pháp tính Root Mean Squared Error để đánh giá kết quả mô hình\n",
    "evaluator = RegressionEvaluator(metricName=\"rmse\")\n",
    "\n",
    "RMSEA = evaluator.evaluate(predictionsA)\n",
    "print(\"ModelA: Root Mean Squared Error = \" + str(RMSEA))\n",
    "\n",
    "RMSEB = evaluator.evaluate(predictionsB)\n",
    "print(\"ModelB: Root Mean Squared Error = \" + str(RMSEB))"
   ]
  },
  {
   "cell_type": "markdown",
   "id": "a28f9ae0",
   "metadata": {},
   "source": [
    "# Bài tập 4: Trực quan hóa kết quả"
   ]
  },
  {
   "cell_type": "code",
   "execution_count": 29,
   "id": "78b64091",
   "metadata": {},
   "outputs": [],
   "source": [
    "# Lấy ra các thông tin cần thiết\n",
    "pop = data.rdd.map(lambda p: (p.features[0])).collect()\n",
    "price = data.rdd.map(lambda p: (p.label)).collect()\n",
    "\n",
    "predA = predictionsA.select(\"prediction\").rdd.map(lambda r: r[0]).collect()\n",
    "predB = predictionsB.select(\"prediction\").rdd.map(lambda r: r[0]).collect()"
   ]
  },
  {
   "cell_type": "code",
   "execution_count": 30,
   "id": "5e3ca6fd",
   "metadata": {},
   "outputs": [
    {
     "data": {
      "text/html": [
       "<div>\n",
       "<style scoped>\n",
       "    .dataframe tbody tr th:only-of-type {\n",
       "        vertical-align: middle;\n",
       "    }\n",
       "\n",
       "    .dataframe tbody tr th {\n",
       "        vertical-align: top;\n",
       "    }\n",
       "\n",
       "    .dataframe thead th {\n",
       "        text-align: right;\n",
       "    }\n",
       "</style>\n",
       "<table border=\"1\" class=\"dataframe\">\n",
       "  <thead>\n",
       "    <tr style=\"text-align: right;\">\n",
       "      <th></th>\n",
       "      <th>pop</th>\n",
       "      <th>price</th>\n",
       "      <th>predA</th>\n",
       "      <th>predB</th>\n",
       "    </tr>\n",
       "  </thead>\n",
       "  <tbody>\n",
       "    <tr>\n",
       "      <th>0</th>\n",
       "      <td>212247.0</td>\n",
       "      <td>162.9</td>\n",
       "      <td>199.316766</td>\n",
       "      <td>204.436404</td>\n",
       "    </tr>\n",
       "    <tr>\n",
       "      <th>1</th>\n",
       "      <td>188226.0</td>\n",
       "      <td>157.7</td>\n",
       "      <td>198.408823</td>\n",
       "      <td>203.917466</td>\n",
       "    </tr>\n",
       "    <tr>\n",
       "      <th>2</th>\n",
       "      <td>194675.0</td>\n",
       "      <td>122.5</td>\n",
       "      <td>198.652581</td>\n",
       "      <td>204.056787</td>\n",
       "    </tr>\n",
       "    <tr>\n",
       "      <th>3</th>\n",
       "      <td>200481.0</td>\n",
       "      <td>129.0</td>\n",
       "      <td>198.872036</td>\n",
       "      <td>204.182217</td>\n",
       "    </tr>\n",
       "    <tr>\n",
       "      <th>4</th>\n",
       "      <td>1537058.0</td>\n",
       "      <td>206.1</td>\n",
       "      <td>249.391835</td>\n",
       "      <td>233.056957</td>\n",
       "    </tr>\n",
       "    <tr>\n",
       "      <th>...</th>\n",
       "      <td>...</td>\n",
       "      <td>...</td>\n",
       "      <td>...</td>\n",
       "      <td>...</td>\n",
       "    </tr>\n",
       "    <tr>\n",
       "      <th>104</th>\n",
       "      <td>450980.0</td>\n",
       "      <td>190.0</td>\n",
       "      <td>208.340371</td>\n",
       "      <td>209.593872</td>\n",
       "    </tr>\n",
       "    <tr>\n",
       "      <th>105</th>\n",
       "      <td>668342.0</td>\n",
       "      <td>352.4</td>\n",
       "      <td>216.556198</td>\n",
       "      <td>214.289652</td>\n",
       "    </tr>\n",
       "    <tr>\n",
       "      <th>106</th>\n",
       "      <td>212052.0</td>\n",
       "      <td>180.2</td>\n",
       "      <td>199.309395</td>\n",
       "      <td>204.432191</td>\n",
       "    </tr>\n",
       "    <tr>\n",
       "      <th>107</th>\n",
       "      <td>245691.0</td>\n",
       "      <td>226.2</td>\n",
       "      <td>200.580879</td>\n",
       "      <td>205.158911</td>\n",
       "    </tr>\n",
       "    <tr>\n",
       "      <th>108</th>\n",
       "      <td>599642.0</td>\n",
       "      <td>195.4</td>\n",
       "      <td>213.959482</td>\n",
       "      <td>212.805491</td>\n",
       "    </tr>\n",
       "  </tbody>\n",
       "</table>\n",
       "<p>109 rows × 4 columns</p>\n",
       "</div>"
      ],
      "text/plain": [
       "           pop  price       predA       predB\n",
       "0     212247.0  162.9  199.316766  204.436404\n",
       "1     188226.0  157.7  198.408823  203.917466\n",
       "2     194675.0  122.5  198.652581  204.056787\n",
       "3     200481.0  129.0  198.872036  204.182217\n",
       "4    1537058.0  206.1  249.391835  233.056957\n",
       "..         ...    ...         ...         ...\n",
       "104   450980.0  190.0  208.340371  209.593872\n",
       "105   668342.0  352.4  216.556198  214.289652\n",
       "106   212052.0  180.2  199.309395  204.432191\n",
       "107   245691.0  226.2  200.580879  205.158911\n",
       "108   599642.0  195.4  213.959482  212.805491\n",
       "\n",
       "[109 rows x 4 columns]"
      ]
     },
     "execution_count": 30,
     "metadata": {},
     "output_type": "execute_result"
    }
   ],
   "source": [
    "pydf = DataFrame({'pop':pop,'price':price,'predA':predA,\n",
    "'predB':predB})\n",
    "pydf"
   ]
  },
  {
   "cell_type": "code",
   "execution_count": 31,
   "id": "9426d283",
   "metadata": {
    "collapsed": true
   },
   "outputs": [
    {
     "name": "stdout",
     "output_type": "stream",
     "text": [
      "Defaulting to user installation because normal site-packages is not writeable\n",
      "Requirement already satisfied: plotnine in /home/godwolf/.local/lib/python3.11/site-packages (0.13.6)\n",
      "Requirement already satisfied: matplotlib>=3.7.0 in /home/godwolf/.local/lib/python3.11/site-packages (from plotnine) (3.9.0)\n",
      "Requirement already satisfied: pandas<3.0.0,>=2.1.0 in /home/godwolf/.local/lib/python3.11/site-packages (from plotnine) (2.2.2)\n",
      "Requirement already satisfied: mizani~=0.11.0 in /home/godwolf/.local/lib/python3.11/site-packages (from plotnine) (0.11.3)\n",
      "Requirement already satisfied: numpy>=1.23.0 in /usr/lib/python3/dist-packages (from plotnine) (1.24.2)\n",
      "Requirement already satisfied: scipy>=1.7.0 in /usr/lib/python3/dist-packages (from plotnine) (1.10.1)\n",
      "Requirement already satisfied: statsmodels>=0.14.0 in /home/godwolf/.local/lib/python3.11/site-packages (from plotnine) (0.14.2)\n",
      "Requirement already satisfied: contourpy>=1.0.1 in /usr/lib/python3/dist-packages (from matplotlib>=3.7.0->plotnine) (1.0.7)\n",
      "Requirement already satisfied: cycler>=0.10 in /usr/lib/python3/dist-packages (from matplotlib>=3.7.0->plotnine) (0.11.0)\n",
      "Requirement already satisfied: fonttools>=4.22.0 in /usr/lib/python3/dist-packages (from matplotlib>=3.7.0->plotnine) (4.38.0)\n",
      "Requirement already satisfied: kiwisolver>=1.3.1 in /home/godwolf/.local/lib/python3.11/site-packages (from matplotlib>=3.7.0->plotnine) (1.4.5)\n",
      "Requirement already satisfied: packaging>=20.0 in /usr/lib/python3/dist-packages (from matplotlib>=3.7.0->plotnine) (23.1)\n",
      "Requirement already satisfied: pillow>=8 in /usr/lib/python3/dist-packages (from matplotlib>=3.7.0->plotnine) (10.0.0)\n",
      "Requirement already satisfied: pyparsing>=2.3.1 in /usr/lib/python3/dist-packages (from matplotlib>=3.7.0->plotnine) (3.1.0)\n",
      "Requirement already satisfied: python-dateutil>=2.7 in /usr/lib/python3/dist-packages (from matplotlib>=3.7.0->plotnine) (2.8.2)\n",
      "Requirement already satisfied: pytz>=2020.1 in /usr/lib/python3/dist-packages (from pandas<3.0.0,>=2.1.0->plotnine) (2023.3)\n",
      "Requirement already satisfied: tzdata>=2022.7 in /home/godwolf/.local/lib/python3.11/site-packages (from pandas<3.0.0,>=2.1.0->plotnine) (2024.1)\n",
      "Requirement already satisfied: patsy>=0.5.6 in /home/godwolf/.local/lib/python3.11/site-packages (from statsmodels>=0.14.0->plotnine) (0.5.6)\n",
      "Requirement already satisfied: six in /usr/lib/python3/dist-packages (from patsy>=0.5.6->statsmodels>=0.14.0->plotnine) (1.16.0)\n",
      "Note: you may need to restart the kernel to use updated packages.\n"
     ]
    }
   ],
   "source": [
    "pip install plotnine"
   ]
  },
  {
   "cell_type": "code",
   "execution_count": 32,
   "id": "2fec67ff",
   "metadata": {},
   "outputs": [],
   "source": [
    "from plotnine import *"
   ]
  },
  {
   "cell_type": "code",
   "execution_count": 33,
   "id": "b2d605d5",
   "metadata": {},
   "outputs": [
    {
     "data": {
      "image/png": "[encoded data removed]"
     },
     "metadata": {
      "image/png": {
       "height": 480,
       "width": 640
      }
     },
     "output_type": "display_data"
    }
   ],
   "source": [
    "p = ggplot(pydf, aes(x='pop', y='price')) + \\\n",
    "    geom_point(color='blue') + \\\n",
    "    geom_line(aes(x='pop', y='predA'), color='red') + \\\n",
    "    geom_line(aes(x='pop', y='predB'), color='green') + \\\n",
    "    scale_x_log10() + scale_y_log10()\n",
    "\n",
    "display(p)"
   ]
  }
 ],
 "metadata": {
  "kernelspec": {
   "display_name": "Python 3 (ipykernel)",
   "language": "python",
   "name": "python3"
  },
  "language_info": {
   "codemirror_mode": {
    "name": "ipython",
    "version": 3
   },
   "file_extension": ".py",
   "mimetype": "text/x-python",
   "name": "python",
   "nbconvert_exporter": "python",
   "pygments_lexer": "ipython3",
   "version": "3.11.6"
  }
 },
 "nbformat": 4,
 "nbformat_minor": 5
}
